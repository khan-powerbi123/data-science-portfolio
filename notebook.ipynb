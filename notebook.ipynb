{
  "cells": [
    {
      "cell_type": "markdown",
      "metadata": {
        "id": "view-in-github",
        "colab_type": "text"
      },
      "source": [
        "<a href=\"https://colab.research.google.com/github/khan-powerbi123/data-science-portfolio/blob/main/notebook.ipynb\" target=\"_parent\"><img src=\"https://colab.research.google.com/assets/colab-badge.svg\" alt=\"Open In Colab\"/></a>"
      ]
    },
    {
      "source": [
        "![New York City schoolbus](schoolbus.jpg)\n",
        "\n",
        "Photo by [Jannis Lucas](https://unsplash.com/@jannis_lucas) on [Unsplash](https://unsplash.com).\n",
        "<br>\n",
        "\n",
        "Every year, American high school students take SATs, which are standardized tests intended to measure literacy, numeracy, and writing skills. There are three sections - reading, math, and writing, each with a **maximum score of 800 points**. These tests are extremely important for students and colleges, as they play a pivotal role in the admissions process.\n",
        "\n",
        "Analyzing the performance of schools is important for a variety of stakeholders, including policy and education professionals, researchers, government, and even parents considering which school their children should attend.\n",
        "\n",
        "You have been provided with a dataset called `schools.csv`, which is previewed below.\n",
        "\n",
        "You have been tasked with answering three key questions about New York City (NYC) public school SAT performance."
      ],
      "metadata": {
        "id": "fe0ea788-58dd-459e-8976-fafdb5c05c6d"
      },
      "id": "fe0ea788-58dd-459e-8976-fafdb5c05c6d",
      "cell_type": "markdown"
    },
    {
      "cell_type": "code",
      "source": [],
      "metadata": {
        "id": "LdiVGKa1ebvR"
      },
      "id": "LdiVGKa1ebvR",
      "execution_count": null,
      "outputs": []
    },
    {
      "source": [
        "# Re-run this cell\n",
        "import pandas as pd\n",
        "\n",
        "# Read in the data\n",
        "schools = pd.read_csv(\"schools.csv\")\n",
        "\n",
        "# Preview the data\n",
        "print(schools.head())\n",
        "print(schools.info())\n",
        "print(schools.columns)\n",
        "\n",
        "\n",
        "# Which schools are best for math?\n",
        "best_math_schools = schools[schools[\"average_math\"] >= 640][[\"school_name\",\"average_math\"]].sort_values(\"average_math\" , ascending = False)\n",
        "print(best_math_schools)\n",
        "\n",
        "# Calculate total_SAT per school\n",
        "schools[\"total_SAT\"] = schools[\"average_math\"] + schools[\"average_reading\"] + schools[\"average_writing\"]\n",
        "\n",
        "# Who are the top 10 performing schools?\n",
        "top_10_schools = schools[[\"school_name\" , \"total_SAT\"]].sort_values(\"total_SAT\", ascending=False).head(10)\n",
        "print(top_10_schools)\n",
        "\n",
        "## Which NYC borough has the highest standard deviation for total_SAT?\n",
        "boroughs = schools.groupby(\"borough\")[\"total_SAT\"].agg([\"mean\", \"count\", \"std\"]).round(2)\n",
        "\n",
        "\n",
        "# Filter for max std and make borough a column\n",
        "largest_std_dev = boroughs[boroughs[\"std\"] == boroughs[\"std\"].max()]\n",
        "print(largest_std_dev)\n",
        "\n",
        "#Rename the columns for clarity\n",
        "largest_std_dev = largest_std_dev.rename(columns={\"mean\": \"average_SAT\", \"count\" : \"num_schools\", \"std\" : \"std_SAT\"})\n",
        "print(largest_std_dev)\n",
        "\n",
        "\n",
        "\n"
      ],
      "metadata": {
        "id": "d0eb4f16-5a99-460d-a5ba-706b7ef0bbe7",
        "executionTime": 53,
        "lastSuccessfullyExecutedCode": "# Re-run this cell \nimport pandas as pd\n\n# Read in the data\nschools = pd.read_csv(\"schools.csv\")\n\n# Preview the data\nprint(schools.head())\nprint(schools.info())\nprint(schools.columns)\n\n\n# Which schools are best for math?\nbest_math_schools = schools[schools[\"average_math\"] >= 640][[\"school_name\",\"average_math\"]].sort_values(\"average_math\" , ascending = False)\nprint(best_math_schools)\n\n# Calculate total_SAT per school\nschools[\"total_SAT\"] = schools[\"average_math\"] + schools[\"average_reading\"] + schools[\"average_writing\"]\n\n# Who are the top 10 performing schools?\ntop_10_schools = schools[[\"school_name\" , \"total_SAT\"]].sort_values(\"total_SAT\", ascending=False).head(10)\nprint(top_10_schools)\n\n## Which NYC borough has the highest standard deviation for total_SAT?\nboroughs = schools.groupby(\"borough\")[\"total_SAT\"].agg([\"mean\", \"count\", \"std\"]).round(2)\n\n\n# Filter for max std and make borough a column\nlargest_std_dev = boroughs[boroughs[\"std\"] == boroughs[\"std\"].max()]\nprint(largest_std_dev)\n\n#Rename the columns for clarity\nlargest_std_dev = largest_std_dev.rename(columns={\"mean\": \"average_SAT\", \"count\" : \"num_schools\", \"std\" : \"std_SAT\"})\nprint(largest_std_dev)\n\n\n\n",
        "executionCancelledAt": null,
        "lastExecutedAt": 1739684656751,
        "lastScheduledRunId": null,
        "outputsMetadata": {
          "0": {
            "height": 616,
            "type": "stream"
          }
        },
        "lastExecutedByKernel": "b11144af-9db0-4088-9bef-6991919836ad",
        "outputId": "90bebb99-256c-41ff-ec90-9ae817578d8a"
      },
      "id": "d0eb4f16-5a99-460d-a5ba-706b7ef0bbe7",
      "cell_type": "code",
      "execution_count": null,
      "outputs": [
        {
          "output_type": "stream",
          "name": "stdout",
          "text": "                                         school_name  ... percent_tested\n0  New Explorations into Science, Technology and ...  ...            NaN\n1                               Essex Street Academy  ...           78.9\n2                       Lower Manhattan Arts Academy  ...           65.1\n3    High School for Dual Language and Asian Studies  ...           95.9\n4      Henry Street School for International Studies  ...           59.7\n\n[5 rows x 7 columns]\n<class 'pandas.core.frame.DataFrame'>\nRangeIndex: 375 entries, 0 to 374\nData columns (total 7 columns):\n #   Column           Non-Null Count  Dtype  \n---  ------           --------------  -----  \n 0   school_name      375 non-null    object \n 1   borough          375 non-null    object \n 2   building_code    375 non-null    object \n 3   average_math     375 non-null    int64  \n 4   average_reading  375 non-null    int64  \n 5   average_writing  375 non-null    int64  \n 6   percent_tested   355 non-null    float64\ndtypes: float64(1), int64(3), object(3)\nmemory usage: 20.6+ KB\nNone\nIndex(['school_name', 'borough', 'building_code', 'average_math',\n       'average_reading', 'average_writing', 'percent_tested'],\n      dtype='object')\n                                           school_name  average_math\n88                              Stuyvesant High School           754\n170                       Bronx High School of Science           714\n93                 Staten Island Technical High School           711\n365  Queens High School for the Sciences at York Co...           701\n68   High School for Mathematics, Science, and Engi...           683\n280                     Brooklyn Technical High School           682\n333                        Townsend Harris High School           680\n174  High School of American Studies at Lehman College           669\n0    New Explorations into Science, Technology and ...           657\n45                       Eleanor Roosevelt High School           641\n                                           school_name  total_SAT\n88                              Stuyvesant High School       2144\n170                       Bronx High School of Science       2041\n93                 Staten Island Technical High School       2041\n174  High School of American Studies at Lehman College       2013\n333                        Townsend Harris High School       1981\n365  Queens High School for the Sciences at York Co...       1947\n5                       Bard High School Early College       1914\n280                     Brooklyn Technical High School       1896\n45                       Eleanor Roosevelt High School       1889\n68   High School for Mathematics, Science, and Engi...       1889\n              mean  count     std\nborough                          \nManhattan  1340.13     89  230.29\n           average_SAT  num_schools  std_SAT\nborough                                     \nManhattan      1340.13           89   230.29\n"
        }
      ]
    },
    {
      "source": [],
      "metadata": {
        "executionCancelledAt": null,
        "executionTime": 52,
        "lastExecutedAt": 1739684656803,
        "lastExecutedByKernel": "b11144af-9db0-4088-9bef-6991919836ad",
        "lastScheduledRunId": null,
        "lastSuccessfullyExecutedCode": "",
        "id": "16726afb-c2ff-42fd-a422-130b34eef8b3"
      },
      "cell_type": "code",
      "id": "16726afb-c2ff-42fd-a422-130b34eef8b3",
      "outputs": [],
      "execution_count": null
    }
  ],
  "metadata": {
    "language_info": {
      "name": "python",
      "version": "3.8.10",
      "mimetype": "text/x-python",
      "codemirror_mode": {
        "name": "ipython",
        "version": 3
      },
      "pygments_lexer": "ipython3",
      "nbconvert_exporter": "python",
      "file_extension": ".py"
    },
    "kernelspec": {
      "display_name": "Python 3 (ipykernel)",
      "language": "python",
      "name": "python3"
    },
    "editor": "DataLab",
    "colab": {
      "provenance": [],
      "include_colab_link": true
    }
  },
  "nbformat": 4,
  "nbformat_minor": 5
}